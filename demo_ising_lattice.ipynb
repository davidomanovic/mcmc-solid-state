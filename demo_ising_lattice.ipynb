{
 "cells": [
  {
   "cell_type": "code",
   "execution_count": 1,
   "metadata": {},
   "outputs": [
    {
     "name": "stdout",
     "output_type": "stream",
     "text": [
      "Total Energy: 20.0\n",
      "Magnetization: -0.08\n"
     ]
    }
   ],
   "source": [
    "import os, sys\n",
    "sys.path.append('./lib')\n",
    "sys.path.append('./src/python/analysis')\n",
    "\n",
    "import montecarlo #type: ignore\n",
    "from visualize_lattice import LatticeVisualizer #type: ignore\n",
    "import matplotlib.pyplot as plt #type: ignore\n",
    "import numpy as np #type: ignore\n",
    "\n",
    "# 10x10 grid\n",
    "ising = montecarlo.IsingModel(size=10, temperature=100)\n",
    "\n",
    "# Initialize the lattice with random spins\n",
    "ising.initialize_lattice()\n",
    "\n",
    "N = 100\n",
    "\n",
    "# Perform some MCMC\n",
    "for step in range(N):\n",
    "    ising.monte_carlo_step()\n",
    "\n",
    "# Get and print lattice configuration\n",
    "lattice = np.array(ising.get_lattice())  \n",
    "# Compute and print energy and magnetization\n",
    "energy = ising.calculate_total_energy()\n",
    "magnetization = ising.calculate_magnetization()\n",
    "print(f\"Total Energy: {energy}\")\n",
    "print(f\"Magnetization: {magnetization}\")\n",
    "\n",
    "# Plot the lattice\n",
    "visualize = LatticeVisualizer(lattice)\n",
    "visualize.plot(title=\"Spin Lattice\",circle_color=\"gray\",arrow_scale=2,arrow_alpha=1.0)"
   ]
  }
 ],
 "metadata": {
  "kernelspec": {
   "display_name": "Python 3",
   "language": "python",
   "name": "python3"
  },
  "language_info": {
   "codemirror_mode": {
    "name": "ipython",
    "version": 3
   },
   "file_extension": ".py",
   "mimetype": "text/x-python",
   "name": "python",
   "nbconvert_exporter": "python",
   "pygments_lexer": "ipython3",
   "version": "3.12.7"
  }
 },
 "nbformat": 4,
 "nbformat_minor": 2
}
